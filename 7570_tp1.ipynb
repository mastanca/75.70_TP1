{
  "nbformat": 4,
  "nbformat_minor": 0,
  "metadata": {
    "colab": {
      "name": "7570_tp1.ipynb",
      "version": "0.3.2",
      "provenance": [],
      "collapsed_sections": [],
      "include_colab_link": true
    },
    "kernelspec": {
      "name": "python3",
      "display_name": "Python 3"
    }
  },
  "cells": [
    {
      "cell_type": "markdown",
      "metadata": {
        "id": "view-in-github",
        "colab_type": "text"
      },
      "source": [
        "<a href=\"https://colab.research.google.com/github/mastanca/75.70_TP1/blob/master/7570_tp1.ipynb\" target=\"_parent\"><img src=\"https://colab.research.google.com/assets/colab-badge.svg\" alt=\"Open In Colab\"/></a>"
      ]
    },
    {
      "metadata": {
        "id": "YqqtB2Gf2-Jt",
        "colab_type": "text"
      },
      "cell_type": "markdown",
      "source": [
        "# 75.70 Trabajo Práctico 1"
      ]
    },
    {
      "metadata": {
        "id": "vZiEirDh0OGU",
        "colab_type": "text"
      },
      "cell_type": "markdown",
      "source": [
        "## Imports y seteo de semillas para randoms\n",
        "\n",
        "Se importan numpy, tensorflow, keras y sklearn. \n",
        "\n",
        "Se setean las semillas de randoms de numpy y tensorflow para tener consistencia entre corridas.\n",
        "\n",
        "Seteamos constante con ubicacion del .csv."
      ]
    },
    {
      "metadata": {
        "id": "bdkGIgI61OBx",
        "colab_type": "code",
        "colab": {}
      },
      "cell_type": "code",
      "source": [
        "import numpy as np\n",
        "np.random.seed(91218) # Set np seed for consistent results across runs\n",
        "\n",
        "import tensorflow as tf\n",
        "tf.set_random_seed(91218)\n",
        "\n",
        "from tensorflow import keras\n",
        "from sklearn.model_selection import train_test_split\n",
        "\n",
        "\n",
        "#CSVPATH = '/content/Admission_norm.csv'\n",
        "CSVPATH = '/content/Admission_Predict_Ver1.1.csv'"
      ],
      "execution_count": 0,
      "outputs": []
    },
    {
      "metadata": {
        "id": "m5BHdOE51U46",
        "colab_type": "text"
      },
      "cell_type": "markdown",
      "source": [
        "## Extracción y procesamiento de datos\n",
        "\n",
        "Se definen las funciones para extracción y procesamiento del set de datos.\n",
        "\n",
        "Se descarta la columna de IDs.\n",
        "\n",
        "Creamos función para categorizar los datos de entrada segun la salida que tienen (Para la segunda red)."
      ]
    },
    {
      "metadata": {
        "id": "Qxe2ve6X1w2A",
        "colab_type": "code",
        "colab": {}
      },
      "cell_type": "code",
      "source": [
        "def categorize_admition(chance):\n",
        "  if chance < 0.5:\n",
        "    return 0 #'very_bad'\n",
        "  elif chance < 0.65:\n",
        "    return 1 #'bad'\n",
        "  elif chance < 0.8:\n",
        "    return 2 #'medium'\n",
        "  elif chance < 0.9:\n",
        "    return 3 #'good'\n",
        "  else:\n",
        "    return 4 #'very_good'\n",
        "\n",
        "def process_row(row, categorize=False):\n",
        "  return [\n",
        "      float(row[1])/340.0,\n",
        "      float(row[2])/120.0,\n",
        "      float(row[3])/5.0,\n",
        "      float(row[4])/5.0,\n",
        "      float(row[5])/5.0,\n",
        "      float(row[6])/10.0,\n",
        "      float(row[7]),\n",
        "      categorize_admition(float(row[8])) if categorize else float(row[8])\n",
        "  ]\n",
        "  \n",
        "def extract_data(csvfile, categorize):\n",
        "  rows = csvfile.read().splitlines()\n",
        "  \n",
        "  # Remove headaer and parse rows\n",
        "  rows = rows[1:]\n",
        "  data = [row.split(',') for row in rows]\n",
        "  data = [process_row(row, categorize) for row in data]\n",
        "  \n",
        "  return data\n"
      ],
      "execution_count": 0,
      "outputs": []
    },
    {
      "metadata": {
        "id": "hU-1CMXL28eU",
        "colab_type": "text"
      },
      "cell_type": "markdown",
      "source": [
        "## Formas de entrenamiento\n",
        "\n",
        "Definimos funciones para entrenar. Puede ser utilizando los primeros n elementos del set, utilizando elementos random o los n primeros elementos usando categorias."
      ]
    },
    {
      "metadata": {
        "id": "MGh7ELkI3cRR",
        "colab_type": "code",
        "colab": {}
      },
      "cell_type": "code",
      "source": [
        "def fixed_train(x, y):\n",
        "  max_x = int(len(x) * 0.67) # 33% used for test\n",
        "  max_y = int(len(y) * 0.67) # 33% used for test\n",
        "  return x[:max_x], x[max_x:], y[:max_y], y[max_y:]\n",
        "\n",
        "\n",
        "def random_train(x, y):\n",
        "  return train_test_split(x, y, test_size=0.33, random_state=43)\n",
        "\n",
        "\n",
        "def categorical_train(x, y):\n",
        "  x_train, x_test, y_train, y_test = fixed_train(x, y)\n",
        "  y_train = keras.utils.to_categorical(y_train, num_classes=5)\n",
        "  y_test = keras.utils.to_categorical(y_test, num_classes=5)\n",
        "  return x_train, x_test, y_train, y_test"
      ],
      "execution_count": 0,
      "outputs": []
    },
    {
      "metadata": {
        "id": "8J6yS5y35Rfm",
        "colab_type": "text"
      },
      "cell_type": "markdown",
      "source": [
        "## Carga de datos\n",
        "\n",
        "Se cargan los datos sin categorizar y categorizados.\n",
        "\n",
        "Se toman las primeras 8 columnas como features y la ultima como output."
      ]
    },
    {
      "metadata": {
        "id": "J0CnX4lo535w",
        "colab_type": "code",
        "colab": {}
      },
      "cell_type": "code",
      "source": [
        "csv = open(CSVPATH, 'r')\n",
        "normal_data = extract_data(csv, False)\n",
        "categorized_data = extract_data(csv, True)\n",
        "csv.close()\n",
        "\n",
        "dataset = np.array(data)\n",
        "\n",
        "x = dataset[:, 0:7]\n",
        "y = dataset[:, 7]"
      ],
      "execution_count": 0,
      "outputs": []
    },
    {
      "metadata": {
        "id": "jPeRKQOy6O0u",
        "colab_type": "text"
      },
      "cell_type": "markdown",
      "source": [
        "## Entrenamiento de la primera red\n",
        "\n",
        "Se crea la primera red usando datos sin categorizar"
      ]
    },
    {
      "metadata": {
        "id": "24OAjDTf6Wcw",
        "colab_type": "code",
        "colab": {
          "base_uri": "https://localhost:8080/",
          "height": 391
        },
        "outputId": "7f4ed452-6141-4ab4-827d-d55ddbb316b3"
      },
      "cell_type": "code",
      "source": [
        "#X_train, X_test, y_train, y_test = random_train(x, y)\n",
        "X_train, X_test, y_train, y_test = fixed_train(x, y)\n",
        "#X_train, X_test, y_train, y_test = categorical_train(x, y)\n",
        "\n",
        "\n",
        "model_1 = keras.Sequential([\n",
        "    keras.layers.Dense(1, input_dim=7, activation='relu'),\n",
        "    #keras.layers.Dense(50, activation='relu'),\n",
        "    keras.layers.Dense(5, activation='softmax')\n",
        "])\n",
        "\n",
        "model_1.compile(optimizer='adam', \n",
        "              loss='sparse_categorical_crossentropy',\n",
        "              metrics=['accuracy'])\n",
        "\n",
        "model_1.fit(X_train, y_train, epochs=5, batch_size=50, shuffle=False)\n",
        "print(model_1.summary())"
      ],
      "execution_count": 15,
      "outputs": [
        {
          "output_type": "stream",
          "text": [
            "Epoch 1/5\n",
            "335/335 [==============================] - 0s 469us/sample - loss: 1.5428 - acc: 0.2478\n",
            "Epoch 2/5\n",
            "335/335 [==============================] - 0s 41us/sample - loss: 1.5364 - acc: 0.4209\n",
            "Epoch 3/5\n",
            "335/335 [==============================] - 0s 41us/sample - loss: 1.5302 - acc: 0.4090\n",
            "Epoch 4/5\n",
            "335/335 [==============================] - 0s 47us/sample - loss: 1.5245 - acc: 0.4090\n",
            "Epoch 5/5\n",
            "335/335 [==============================] - 0s 41us/sample - loss: 1.5192 - acc: 0.4090\n",
            "_________________________________________________________________\n",
            "Layer (type)                 Output Shape              Param #   \n",
            "=================================================================\n",
            "dense_8 (Dense)              (None, 1)                 8         \n",
            "_________________________________________________________________\n",
            "dense_9 (Dense)              (None, 5)                 10        \n",
            "=================================================================\n",
            "Total params: 18\n",
            "Trainable params: 18\n",
            "Non-trainable params: 0\n",
            "_________________________________________________________________\n",
            "None\n"
          ],
          "name": "stdout"
        }
      ]
    },
    {
      "metadata": {
        "id": "qzcwj_CQ6ppn",
        "colab_type": "text"
      },
      "cell_type": "markdown",
      "source": [
        "## Ejecución de la primera red\n",
        "\n",
        "Ejecutamos la primera red con los datos no categorizados"
      ]
    },
    {
      "metadata": {
        "id": "RE64eUOk6w4L",
        "colab_type": "code",
        "colab": {
          "base_uri": "https://localhost:8080/",
          "height": 51
        },
        "outputId": "aaf772be-9520-4500-ca8f-2b12216bd4ba"
      },
      "cell_type": "code",
      "source": [
        "test_loss, test_acc = model_1.evaluate(X_test, y_test)\n",
        "\n",
        "print('Test accuracy:', round(test_acc*100, 2), '%')"
      ],
      "execution_count": 16,
      "outputs": [
        {
          "output_type": "stream",
          "text": [
            "165/165 [==============================] - 0s 459us/sample - loss: 1.5248 - acc: 0.3758\n",
            "Test accuracy: 37.58 %\n"
          ],
          "name": "stdout"
        }
      ]
    },
    {
      "metadata": {
        "id": "i6r8sUJB60gO",
        "colab_type": "text"
      },
      "cell_type": "markdown",
      "source": [
        "## Entrenamiento de la segunda red\n",
        "\n",
        "Entrenamos la segunda red usando los datos categorizados"
      ]
    },
    {
      "metadata": {
        "id": "kkRbPtWW7FGY",
        "colab_type": "code",
        "colab": {
          "base_uri": "https://localhost:8080/",
          "height": 391
        },
        "outputId": "73287214-6373-4220-90c2-5a20a8754d61"
      },
      "cell_type": "code",
      "source": [
        "#X_train, X_test, y_train, y_test = random_train(x, y)\n",
        "#X_train, X_test, y_train, y_test = fixed_train(x, y)\n",
        "X_train, X_test, y_train, y_test = categorical_train(x, y)\n",
        "\n",
        "\n",
        "model_2 = keras.Sequential([\n",
        "    keras.layers.Dense(1, input_dim=7, activation='relu'),\n",
        "    #keras.layers.Dense(50, activation='relu'),\n",
        "    keras.layers.Dense(5, activation='softmax')\n",
        "])\n",
        "\n",
        "model_2.compile(optimizer='adam', \n",
        "              loss='categorical_crossentropy',\n",
        "              metrics=['accuracy'])\n",
        "\n",
        "model_2.fit(X_train, y_train, epochs=5, batch_size=50, shuffle=False)\n",
        "print(model_2.summary())"
      ],
      "execution_count": 22,
      "outputs": [
        {
          "output_type": "stream",
          "text": [
            "Epoch 1/5\n",
            "335/335 [==============================] - 0s 600us/sample - loss: 1.6082 - acc: 0.3672\n",
            "Epoch 2/5\n",
            "335/335 [==============================] - 0s 49us/sample - loss: 1.6058 - acc: 0.4090\n",
            "Epoch 3/5\n",
            "335/335 [==============================] - 0s 44us/sample - loss: 1.6034 - acc: 0.4090\n",
            "Epoch 4/5\n",
            "335/335 [==============================] - 0s 46us/sample - loss: 1.6011 - acc: 0.4090\n",
            "Epoch 5/5\n",
            "335/335 [==============================] - 0s 49us/sample - loss: 1.5988 - acc: 0.4090\n",
            "_________________________________________________________________\n",
            "Layer (type)                 Output Shape              Param #   \n",
            "=================================================================\n",
            "dense_14 (Dense)             (None, 1)                 8         \n",
            "_________________________________________________________________\n",
            "dense_15 (Dense)             (None, 5)                 10        \n",
            "=================================================================\n",
            "Total params: 18\n",
            "Trainable params: 18\n",
            "Non-trainable params: 0\n",
            "_________________________________________________________________\n",
            "None\n"
          ],
          "name": "stdout"
        }
      ]
    },
    {
      "metadata": {
        "id": "HEjjCRsp7LRN",
        "colab_type": "text"
      },
      "cell_type": "markdown",
      "source": [
        "## Ejecución de la segunda red\n",
        "\n",
        "Ejecutamos la segunda red, usando los datos categorizados"
      ]
    },
    {
      "metadata": {
        "id": "sK-bF9rT7RdL",
        "colab_type": "code",
        "colab": {
          "base_uri": "https://localhost:8080/",
          "height": 51
        },
        "outputId": "4902eeb8-136a-4b34-fd60-9c55e64fdb5c"
      },
      "cell_type": "code",
      "source": [
        "test_loss, test_acc = model_2.evaluate(X_test, y_test)\n",
        "\n",
        "print('Test accuracy:', round(test_acc*100, 2), '%')"
      ],
      "execution_count": 23,
      "outputs": [
        {
          "output_type": "stream",
          "text": [
            "165/165 [==============================] - 0s 692us/sample - loss: 1.5984 - acc: 0.3758\n",
            "Test accuracy: 37.58 %\n"
          ],
          "name": "stdout"
        }
      ]
    },
    {
      "metadata": {
        "id": "l-S1FTHt0Acy",
        "colab_type": "text"
      },
      "cell_type": "markdown",
      "source": [
        ""
      ]
    }
  ]
}