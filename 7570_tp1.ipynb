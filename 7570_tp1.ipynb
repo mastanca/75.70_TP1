{
  "nbformat": 4,
  "nbformat_minor": 0,
  "metadata": {
    "colab": {
      "name": "7570_tp1.ipynb",
      "version": "0.3.2",
      "provenance": [],
      "collapsed_sections": []
    },
    "kernelspec": {
      "name": "python3",
      "display_name": "Python 3"
    }
  },
  "cells": [
    {
      "metadata": {
        "id": "YqqtB2Gf2-Jt",
        "colab_type": "text"
      },
      "cell_type": "markdown",
      "source": [
        "# 75.70 Trabajo Práctico 1"
      ]
    },
    {
      "metadata": {
        "id": "vZiEirDh0OGU",
        "colab_type": "text"
      },
      "cell_type": "markdown",
      "source": [
        "## Imports y seteo de semillas para randoms\n",
        "\n",
        "Se importan numpy, tensorflow, keras y sklearn. \n",
        "\n",
        "Se setean las semillas de randoms de numpy y tensorflow para tener consistencia entre corridas.\n",
        "\n",
        "Seteamos constante con ubicacion del .csv."
      ]
    },
    {
      "metadata": {
        "id": "bdkGIgI61OBx",
        "colab_type": "code",
        "colab": {}
      },
      "cell_type": "code",
      "source": [
        "import numpy as np\n",
        "np.random.seed(91218) # Set np seed for consistent results across runs\n",
        "\n",
        "import tensorflow as tf\n",
        "tf.set_random_seed(91218)\n",
        "\n",
        "from tensorflow import keras\n",
        "from sklearn.model_selection import train_test_split\n",
        "\n",
        "CSVPATH = '/content/Admission_Predict_Ver1.1.csv'"
      ],
      "execution_count": 0,
      "outputs": []
    },
    {
      "metadata": {
        "id": "m5BHdOE51U46",
        "colab_type": "text"
      },
      "cell_type": "markdown",
      "source": [
        "## Extracción y procesamiento de datos\n",
        "\n",
        "Se definen las funciones para extracción y procesamiento del set de datos.\n",
        "\n",
        "Se descarta la columna de IDs y se normalizan el resto de las columnas.\n",
        "\n",
        "Creamos función para categorizar los datos de entrada segun la salida que tienen (Para la segunda red)."
      ]
    },
    {
      "metadata": {
        "id": "Qxe2ve6X1w2A",
        "colab_type": "code",
        "colab": {}
      },
      "cell_type": "code",
      "source": [
        "def categorize_admition(chance):\n",
        "  if chance < 0.5:\n",
        "    return 0 #'very_bad'\n",
        "  elif chance < 0.65:\n",
        "    return 1 #'bad'\n",
        "  elif chance < 0.8:\n",
        "    return 2 #'medium'\n",
        "  elif chance < 0.9:\n",
        "    return 3 #'good'\n",
        "  else:\n",
        "    return 4 #'very_good'\n",
        "\n",
        "def process_row(row, categorize=False):\n",
        "  return [\n",
        "      float(row[1])/340.0,\n",
        "      float(row[2])/120.0,\n",
        "      float(row[3])/5.0,\n",
        "      float(row[4])/5.0,\n",
        "      float(row[5])/5.0,\n",
        "      float(row[6])/10.0,\n",
        "      float(row[7]),\n",
        "      categorize_admition(float(row[8])) if categorize else float(row[8])\n",
        "  ]\n",
        "  \n",
        "def extract_data(csvfile, categorize):\n",
        "  rows = csvfile.read().splitlines()\n",
        "  \n",
        "  # Remove headaer and parse rows\n",
        "  rows = rows[1:]\n",
        "  data = [row.split(',') for row in rows]\n",
        "  data = [process_row(row, categorize) for row in data]\n",
        "  \n",
        "  return data\n"
      ],
      "execution_count": 0,
      "outputs": []
    },
    {
      "metadata": {
        "id": "hU-1CMXL28eU",
        "colab_type": "text"
      },
      "cell_type": "markdown",
      "source": [
        "## Formas de entrenamiento\n",
        "\n",
        "Definimos funciones para entrenar. Puede ser utilizando los primeros n elementos del set, utilizando elementos random o los n primeros elementos usando categorias."
      ]
    },
    {
      "metadata": {
        "id": "MGh7ELkI3cRR",
        "colab_type": "code",
        "colab": {}
      },
      "cell_type": "code",
      "source": [
        "def fixed_train(x, y):\n",
        "  max_x = int(len(x) * 0.67) # 33% used for test\n",
        "  max_y = int(len(y) * 0.67) # 33% used for test\n",
        "  return x[:max_x], x[max_x:], y[:max_y], y[max_y:]\n",
        "\n",
        "\n",
        "def random_train(x, y):\n",
        "  return train_test_split(x, y, test_size=0.33, random_state=43)\n",
        "\n",
        "\n",
        "def categorical_train(x, y):\n",
        "  x_train, x_test, y_train, y_test = fixed_train(x, y)\n",
        "  y_train = keras.utils.to_categorical(y_train, num_classes=5)\n",
        "  y_test = keras.utils.to_categorical(y_test, num_classes=5)\n",
        "  return x_train, x_test, y_train, y_test"
      ],
      "execution_count": 0,
      "outputs": []
    },
    {
      "metadata": {
        "id": "8J6yS5y35Rfm",
        "colab_type": "text"
      },
      "cell_type": "markdown",
      "source": [
        "## Carga de datos\n",
        "\n",
        "Se cargan los datos sin categorizar y categorizados.\n",
        "\n",
        "Se toman las primeras 8 columnas como features y la ultima como output."
      ]
    },
    {
      "metadata": {
        "id": "J0CnX4lo535w",
        "colab_type": "code",
        "colab": {}
      },
      "cell_type": "code",
      "source": [
        "csv = open(CSVPATH, 'r')\n",
        "normal_data = extract_data(csv, False)\n",
        "categorized_data = extract_data(csv, True)\n",
        "csv.close()\n",
        "\n",
        "dataset = np.array(data)\n",
        "\n",
        "x = dataset[:, 0:7]\n",
        "y = dataset[:, 7]"
      ],
      "execution_count": 0,
      "outputs": []
    },
    {
      "metadata": {
        "id": "jPeRKQOy6O0u",
        "colab_type": "text"
      },
      "cell_type": "markdown",
      "source": [
        "## Entrenamiento de la primera red\n",
        "\n",
        "Se crea la primera red usando datos sin categorizar. Como funcion de loss se utiliza el error cuadrático medio"
      ]
    },
    {
      "metadata": {
        "id": "24OAjDTf6Wcw",
        "colab_type": "code",
        "colab": {
          "base_uri": "https://localhost:8080/",
          "height": 561
        },
        "outputId": "3537bcf7-4afe-4f2d-b16f-6693b52a64ab"
      },
      "cell_type": "code",
      "source": [
        "#X_train, X_test, y_train, y_test = random_train(x, y)\n",
        "X_train, X_test, y_train, y_test = fixed_train(x, y)\n",
        "#X_train, X_test, y_train, y_test = categorical_train(x, y)\n",
        "\n",
        "\n",
        "model_1 = keras.Sequential([\n",
        "    keras.layers.Dense(1, input_dim=7, activation='relu'),\n",
        "    keras.layers.Dense(1, activation='softmax')\n",
        "])\n",
        "\n",
        "model_1.compile(optimizer='adam', \n",
        "              loss='mean_squared_error',\n",
        "              metrics=['mean_squared_error'])\n",
        "\n",
        "model_1.fit(X_train, y_train, epochs=10, batch_size=50, shuffle=False)\n",
        "print(model_1.summary())"
      ],
      "execution_count": 83,
      "outputs": [
        {
          "output_type": "stream",
          "text": [
            "Epoch 1/10\n",
            "335/335 [==============================] - 0s 1ms/sample - loss: 2.4985 - mean_squared_error: 2.4985\n",
            "Epoch 2/10\n",
            "335/335 [==============================] - 0s 53us/sample - loss: 2.4985 - mean_squared_error: 2.4985\n",
            "Epoch 3/10\n",
            "335/335 [==============================] - 0s 53us/sample - loss: 2.4985 - mean_squared_error: 2.4985\n",
            "Epoch 4/10\n",
            "335/335 [==============================] - 0s 49us/sample - loss: 2.4985 - mean_squared_error: 2.4985\n",
            "Epoch 5/10\n",
            "335/335 [==============================] - 0s 45us/sample - loss: 2.4985 - mean_squared_error: 2.4985\n",
            "Epoch 6/10\n",
            "335/335 [==============================] - 0s 61us/sample - loss: 2.4985 - mean_squared_error: 2.4985\n",
            "Epoch 7/10\n",
            "335/335 [==============================] - 0s 47us/sample - loss: 2.4985 - mean_squared_error: 2.4985\n",
            "Epoch 8/10\n",
            "335/335 [==============================] - 0s 48us/sample - loss: 2.4985 - mean_squared_error: 2.4985\n",
            "Epoch 9/10\n",
            "335/335 [==============================] - 0s 50us/sample - loss: 2.4985 - mean_squared_error: 2.4985\n",
            "Epoch 10/10\n",
            "335/335 [==============================] - 0s 53us/sample - loss: 2.4985 - mean_squared_error: 2.4985\n",
            "_________________________________________________________________\n",
            "Layer (type)                 Output Shape              Param #   \n",
            "=================================================================\n",
            "dense_80 (Dense)             (None, 1)                 8         \n",
            "_________________________________________________________________\n",
            "dense_81 (Dense)             (None, 1)                 2         \n",
            "=================================================================\n",
            "Total params: 10\n",
            "Trainable params: 10\n",
            "Non-trainable params: 0\n",
            "_________________________________________________________________\n",
            "None\n"
          ],
          "name": "stdout"
        }
      ]
    },
    {
      "metadata": {
        "id": "qzcwj_CQ6ppn",
        "colab_type": "text"
      },
      "cell_type": "markdown",
      "source": [
        "## Ejecución de la primera red\n",
        "\n",
        "Ejecutamos la primera red con los datos no categorizados"
      ]
    },
    {
      "metadata": {
        "id": "RE64eUOk6w4L",
        "colab_type": "code",
        "colab": {
          "base_uri": "https://localhost:8080/",
          "height": 51
        },
        "outputId": "a98d9ddf-246b-4ccc-c99a-894b03b49a24"
      },
      "cell_type": "code",
      "source": [
        "test_loss, test_acc = model_1.evaluate(X_test, y_test)\n",
        "\n",
        "print('Mean Squared Error:', round(test_loss, 2))\n",
        "#print('Test accuracy:', round(test_acc*100, 2), '%')"
      ],
      "execution_count": 84,
      "outputs": [
        {
          "output_type": "stream",
          "text": [
            "165/165 [==============================] - 0s 2ms/sample - loss: 2.2364 - mean_squared_error: 2.2364\n",
            "Mean Squared Error: 2.24\n"
          ],
          "name": "stdout"
        }
      ]
    },
    {
      "metadata": {
        "id": "i6r8sUJB60gO",
        "colab_type": "text"
      },
      "cell_type": "markdown",
      "source": [
        "## Entrenamiento de la segunda red\n",
        "\n",
        "Entrenamos la segunda red usando los datos categorizados"
      ]
    },
    {
      "metadata": {
        "id": "kkRbPtWW7FGY",
        "colab_type": "code",
        "colab": {
          "base_uri": "https://localhost:8080/",
          "height": 731
        },
        "outputId": "3bc1b400-368a-4baf-e41b-a24ede2115b6"
      },
      "cell_type": "code",
      "source": [
        "X_train, X_test, y_train, y_test = categorical_train(x, y)\n",
        "\n",
        "model_2 = keras.Sequential([\n",
        "    keras.layers.Dense(1, input_dim=7, activation='relu'),\n",
        "    keras.layers.Dense(5, activation='softmax')\n",
        "])\n",
        "\n",
        "model_2.compile(optimizer='adam', \n",
        "              loss='categorical_crossentropy',\n",
        "              metrics=['accuracy'])\n",
        "\n",
        "model_2.fit(X_train, y_train, epochs=15, batch_size=50, shuffle=False)\n",
        "print(model_2.summary())"
      ],
      "execution_count": 85,
      "outputs": [
        {
          "output_type": "stream",
          "text": [
            "Epoch 1/15\n",
            "335/335 [==============================] - 0s 1ms/sample - loss: 1.8350 - acc: 0.0657\n",
            "Epoch 2/15\n",
            "335/335 [==============================] - 0s 59us/sample - loss: 1.8079 - acc: 0.0657\n",
            "Epoch 3/15\n",
            "335/335 [==============================] - 0s 51us/sample - loss: 1.7823 - acc: 0.0687\n",
            "Epoch 4/15\n",
            "335/335 [==============================] - 0s 48us/sample - loss: 1.7582 - acc: 0.0657\n",
            "Epoch 5/15\n",
            "335/335 [==============================] - 0s 58us/sample - loss: 1.7354 - acc: 0.0597\n",
            "Epoch 6/15\n",
            "335/335 [==============================] - 0s 59us/sample - loss: 1.7141 - acc: 0.0746\n",
            "Epoch 7/15\n",
            "335/335 [==============================] - 0s 56us/sample - loss: 1.6942 - acc: 0.0866\n",
            "Epoch 8/15\n",
            "335/335 [==============================] - 0s 44us/sample - loss: 1.6759 - acc: 0.1075\n",
            "Epoch 9/15\n",
            "335/335 [==============================] - 0s 51us/sample - loss: 1.6594 - acc: 0.1343\n",
            "Epoch 10/15\n",
            "335/335 [==============================] - 0s 56us/sample - loss: 1.6445 - acc: 0.1582\n",
            "Epoch 11/15\n",
            "335/335 [==============================] - 0s 52us/sample - loss: 1.6313 - acc: 0.2060\n",
            "Epoch 12/15\n",
            "335/335 [==============================] - 0s 66us/sample - loss: 1.6200 - acc: 0.2269\n",
            "Epoch 13/15\n",
            "335/335 [==============================] - 0s 61us/sample - loss: 1.6107 - acc: 0.2657\n",
            "Epoch 14/15\n",
            "335/335 [==============================] - 0s 72us/sample - loss: 1.6032 - acc: 0.2955\n",
            "Epoch 15/15\n",
            "335/335 [==============================] - 0s 66us/sample - loss: 1.5967 - acc: 0.3045\n",
            "_________________________________________________________________\n",
            "Layer (type)                 Output Shape              Param #   \n",
            "=================================================================\n",
            "dense_82 (Dense)             (None, 1)                 8         \n",
            "_________________________________________________________________\n",
            "dense_83 (Dense)             (None, 5)                 10        \n",
            "=================================================================\n",
            "Total params: 18\n",
            "Trainable params: 18\n",
            "Non-trainable params: 0\n",
            "_________________________________________________________________\n",
            "None\n"
          ],
          "name": "stdout"
        }
      ]
    },
    {
      "metadata": {
        "id": "HEjjCRsp7LRN",
        "colab_type": "text"
      },
      "cell_type": "markdown",
      "source": [
        "## Ejecución de la segunda red\n",
        "\n",
        "Ejecutamos la segunda red, usando los datos categorizados"
      ]
    },
    {
      "metadata": {
        "id": "sK-bF9rT7RdL",
        "colab_type": "code",
        "colab": {
          "base_uri": "https://localhost:8080/",
          "height": 51
        },
        "outputId": "7130f454-565b-49c9-8f46-1339c879548d"
      },
      "cell_type": "code",
      "source": [
        "test_loss, test_acc = model_2.evaluate(X_test, y_test)\n",
        "\n",
        "print('Test accuracy:', round(test_acc*100, 2), '%')"
      ],
      "execution_count": 86,
      "outputs": [
        {
          "output_type": "stream",
          "text": [
            "165/165 [==============================] - 0s 2ms/sample - loss: 1.5918 - acc: 0.2909\n",
            "Test accuracy: 29.09 %\n"
          ],
          "name": "stdout"
        }
      ]
    },
    {
      "metadata": {
        "id": "l-S1FTHt0Acy",
        "colab_type": "text"
      },
      "cell_type": "markdown",
      "source": [
        ""
      ]
    }
  ]
}